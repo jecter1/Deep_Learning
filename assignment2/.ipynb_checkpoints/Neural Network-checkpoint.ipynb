{
 "cells": [
  {
   "cell_type": "markdown",
   "metadata": {},
   "source": [
    "# Задание 2.1 - Нейронные сети\n",
    "\n",
    "В этом задании вы реализуете и натренируете настоящую нейроную сеть своими руками!\n",
    "\n",
    "В некотором смысле это будет расширением прошлого задания - нам нужно просто составить несколько линейных классификаторов вместе!\n",
    "\n",
    "<img src=\"https://i.redd.it/n9fgba8b0qr01.png\" alt=\"Stack_more_layers\" width=\"400px\"/>"
   ]
  },
  {
   "cell_type": "code",
   "execution_count": 1,
   "metadata": {},
   "outputs": [],
   "source": [
    "import numpy as np\n",
    "import matplotlib.pyplot as plt\n",
    "\n",
    "%matplotlib inline\n",
    "\n",
    "%load_ext autoreload\n",
    "%autoreload 2"
   ]
  },
  {
   "cell_type": "code",
   "execution_count": 2,
   "metadata": {},
   "outputs": [],
   "source": [
    "from dataset import load_svhn, random_split_train_val\n",
    "from gradient_check import check_layer_gradient, check_layer_param_gradient, check_model_gradient\n",
    "from layers import FullyConnectedLayer, ReLULayer\n",
    "from model import TwoLayerNet\n",
    "from trainer import Trainer, Dataset\n",
    "from optim import SGD, MomentumSGD\n",
    "from metrics import multiclass_accuracy"
   ]
  },
  {
   "cell_type": "markdown",
   "metadata": {},
   "source": [
    "# Загружаем данные\n",
    "\n",
    "И разделяем их на training и validation."
   ]
  },
  {
   "cell_type": "code",
   "execution_count": 3,
   "metadata": {},
   "outputs": [],
   "source": [
    "def prepare_for_neural_network(train_X, test_X):\n",
    "    train_flat = train_X.reshape(train_X.shape[0], -1).astype(float) / 255.0\n",
    "    test_flat = test_X.reshape(test_X.shape[0], -1).astype(float) / 255.0\n",
    "    \n",
    "    # Subtract mean\n",
    "    mean_image = np.mean(train_flat, axis = 0)\n",
    "    train_flat -= mean_image\n",
    "    test_flat -= mean_image\n",
    "    \n",
    "    return train_flat, test_flat\n",
    "    \n",
    "train_X, train_y, test_X, test_y = load_svhn(\"data\", max_train=10000, max_test=1000)    \n",
    "train_X, test_X = prepare_for_neural_network(train_X, test_X)\n",
    "# Split train into train and val\n",
    "train_X, train_y, val_X, val_y = random_split_train_val(train_X, train_y, num_val = 1000)"
   ]
  },
  {
   "cell_type": "markdown",
   "metadata": {},
   "source": [
    "# Как всегда, начинаем с кирпичиков\n",
    "\n",
    "Мы будем реализовывать необходимые нам слои по очереди. Каждый слой должен реализовать:\n",
    "- прямой проход (forward pass), который генерирует выход слоя по входу и запоминает необходимые данные\n",
    "- обратный проход (backward pass), который получает градиент по выходу слоя и вычисляет градиент по входу и по параметрам\n",
    "\n",
    "Начнем с ReLU, у которого параметров нет."
   ]
  },
  {
   "cell_type": "code",
   "execution_count": 4,
   "metadata": {
    "scrolled": false
   },
   "outputs": [
    {
     "name": "stdout",
     "output_type": "stream",
     "text": [
      "Gradient check passed!\n"
     ]
    }
   ],
   "source": [
    "X = np.array([[1,-2,3],\n",
    "              [-1, 2, 0.1]\n",
    "              ])\n",
    "\n",
    "assert check_layer_gradient(ReLULayer(), X)"
   ]
  },
  {
   "cell_type": "markdown",
   "metadata": {},
   "source": [
    "А теперь реализуем полносвязный слой (fully connected layer), у которого будет два массива параметров: W (weights) и B (bias).\n",
    "\n",
    "Все параметры наши слои будут использовать для параметров специальный класс `Param`, в котором будут храниться значения параметров и градиенты этих параметров, вычисляемые во время обратного прохода.\n",
    "\n",
    "Это даст возможность аккумулировать (суммировать) градиенты из разных частей функции потерь, например, из cross-entropy loss и regularization loss."
   ]
  },
  {
   "cell_type": "code",
   "execution_count": 5,
   "metadata": {},
   "outputs": [
    {
     "name": "stdout",
     "output_type": "stream",
     "text": [
      "Gradient check passed!\n",
      "Gradient check passed!\n",
      "Gradient check passed!\n"
     ]
    }
   ],
   "source": [
    "assert check_layer_gradient(FullyConnectedLayer(3, 4), X)\n",
    "assert check_layer_param_gradient(FullyConnectedLayer(3, 4), X, 'W')\n",
    "assert check_layer_param_gradient(FullyConnectedLayer(3, 4), X, 'B')"
   ]
  },
  {
   "cell_type": "markdown",
   "metadata": {},
   "source": [
    "## Создаем нейронную сеть\n",
    "\n",
    "Теперь мы реализуем простейшую нейронную сеть с двумя полносвязным слоями и нелинейностью ReLU. Реализуйте функцию `compute_loss_and_gradients`, она должна запустить прямой и обратный проход через оба слоя для вычисления градиентов.\n",
    "\n",
    "Не забудьте реализовать очистку градиентов в начале функции."
   ]
  },
  {
   "cell_type": "code",
   "execution_count": 6,
   "metadata": {},
   "outputs": [
    {
     "name": "stdout",
     "output_type": "stream",
     "text": [
      "Checking gradient for W_0\n",
      "Gradient check passed!\n",
      "Checking gradient for B_0\n",
      "Gradient check passed!\n",
      "Checking gradient for W_2\n",
      "Gradient check passed!\n",
      "Checking gradient for B_2\n",
      "Gradient check passed!\n"
     ]
    },
    {
     "data": {
      "text/plain": [
       "True"
      ]
     },
     "execution_count": 6,
     "metadata": {},
     "output_type": "execute_result"
    }
   ],
   "source": [
    "model = TwoLayerNet(n_input = train_X.shape[1], n_output = 10, hidden_layer_size = 3, reg = 0)\n",
    "loss = model.compute_loss_and_gradients(train_X[:2], train_y[:2])\n",
    "\n",
    "check_model_gradient(model, train_X[:2], train_y[:2])"
   ]
  },
  {
   "cell_type": "markdown",
   "metadata": {},
   "source": [
    "Теперь добавьте к модели регуляризацию - она должна прибавляться к loss и делать свой вклад в градиенты."
   ]
  },
  {
   "cell_type": "code",
   "execution_count": 7,
   "metadata": {},
   "outputs": [
    {
     "name": "stdout",
     "output_type": "stream",
     "text": [
      "Checking gradient for W_0\n",
      "Gradient check passed!\n",
      "Checking gradient for B_0\n",
      "Gradient check passed!\n",
      "Checking gradient for W_2\n",
      "Gradient check passed!\n",
      "Checking gradient for B_2\n",
      "Gradient check passed!\n"
     ]
    },
    {
     "data": {
      "text/plain": [
       "True"
      ]
     },
     "execution_count": 7,
     "metadata": {},
     "output_type": "execute_result"
    }
   ],
   "source": [
    "model_with_reg = TwoLayerNet(n_input = train_X.shape[1], n_output = 10, hidden_layer_size = 3, reg = 1e1)\n",
    "loss_with_reg = model_with_reg.compute_loss_and_gradients(train_X[:2], train_y[:2])\n",
    "assert loss_with_reg > loss and not np.isclose(loss_with_reg, loss), \\\n",
    "    \"Loss with regularization (%2.4f) should be higher than without it (%2.4f)!\" % (loss, loss_with_reg)\n",
    "\n",
    "check_model_gradient(model_with_reg, train_X[:2], train_y[:2])"
   ]
  },
  {
   "cell_type": "markdown",
   "metadata": {},
   "source": [
    "Также реализуем функцию предсказания (вычисления значения) модели на новых данных.\n",
    "\n",
    "Какое значение точности мы ожидаем увидеть до начала тренировки?"
   ]
  },
  {
   "cell_type": "code",
   "execution_count": 8,
   "metadata": {},
   "outputs": [
    {
     "data": {
      "text/plain": [
       "0.1"
      ]
     },
     "execution_count": 8,
     "metadata": {},
     "output_type": "execute_result"
    }
   ],
   "source": [
    "multiclass_accuracy(model_with_reg.predict(train_X[:30]), train_y[:30]) "
   ]
  },
  {
   "cell_type": "markdown",
   "metadata": {},
   "source": [
    "# Допишем код для процесса тренировки\n",
    "\n",
    "Если все реализовано корректно, значение функции ошибки должно уменьшаться с каждой эпохой, пусть и медленно. Не беспокойтесь пока про validation accuracy."
   ]
  },
  {
   "cell_type": "code",
   "execution_count": 9,
   "metadata": {},
   "outputs": [
    {
     "name": "stdout",
     "output_type": "stream",
     "text": [
      "Loss: 2.216706, Train accuracy: 0.196667, val accuracy: 0.206000\n",
      "Loss: 2.154270, Train accuracy: 0.196667, val accuracy: 0.206000\n",
      "Loss: 2.100071, Train accuracy: 0.196667, val accuracy: 0.206000\n",
      "Loss: 2.286345, Train accuracy: 0.196667, val accuracy: 0.206000\n",
      "Loss: 2.169583, Train accuracy: 0.196667, val accuracy: 0.206000\n",
      "Loss: 2.064616, Train accuracy: 0.196667, val accuracy: 0.206000\n",
      "Loss: 2.368611, Train accuracy: 0.196667, val accuracy: 0.206000\n",
      "Loss: 2.111779, Train accuracy: 0.196667, val accuracy: 0.206000\n",
      "Loss: 2.226791, Train accuracy: 0.207222, val accuracy: 0.215000\n",
      "Loss: 2.069778, Train accuracy: 0.230333, val accuracy: 0.235000\n",
      "Loss: 2.121233, Train accuracy: 0.257222, val accuracy: 0.258000\n",
      "Loss: 2.110917, Train accuracy: 0.269000, val accuracy: 0.268000\n",
      "Loss: 2.121928, Train accuracy: 0.282889, val accuracy: 0.287000\n",
      "Loss: 2.001790, Train accuracy: 0.299556, val accuracy: 0.303000\n",
      "Loss: 2.056521, Train accuracy: 0.323222, val accuracy: 0.323000\n",
      "Loss: 1.858225, Train accuracy: 0.357222, val accuracy: 0.359000\n",
      "Loss: 1.858103, Train accuracy: 0.388667, val accuracy: 0.382000\n",
      "Loss: 2.042754, Train accuracy: 0.404889, val accuracy: 0.395000\n",
      "Loss: 1.972588, Train accuracy: 0.424667, val accuracy: 0.414000\n",
      "Loss: 1.780734, Train accuracy: 0.450000, val accuracy: 0.442000\n"
     ]
    }
   ],
   "source": [
    "model = TwoLayerNet(n_input = train_X.shape[1], n_output = 10, hidden_layer_size = 100, reg = 1e-3)\n",
    "dataset = Dataset(train_X, train_y, val_X, val_y)\n",
    "trainer = Trainer(model, dataset, SGD())\n",
    "\n",
    "loss_history, train_history, val_history = trainer.fit()"
   ]
  },
  {
   "cell_type": "code",
   "execution_count": 10,
   "metadata": {},
   "outputs": [
    {
     "data": {
      "text/plain": [
       "[<matplotlib.lines.Line2D at 0x7f412b519940>]"
      ]
     },
     "execution_count": 10,
     "metadata": {},
     "output_type": "execute_result"
    },
    {
     "data": {
      "image/png": "[encoded data removed]",
      "text/plain": [
       "<Figure size 432x288 with 1 Axes>"
      ]
     },
     "metadata": {
      "needs_background": "light"
     },
     "output_type": "display_data"
    }
   ],
   "source": [
    "plt.plot(train_history)\n",
    "plt.plot(val_history)"
   ]
  },
  {
   "cell_type": "markdown",
   "metadata": {},
   "source": [
    "# Улучшаем процесс тренировки\n",
    "\n",
    "Мы реализуем несколько ключевых оптимизаций, необходимых для тренировки современных нейросетей."
   ]
  },
  {
   "cell_type": "markdown",
   "metadata": {},
   "source": [
    "## Уменьшение скорости обучения (learning rate decay)\n",
    "\n",
    "Одна из необходимых оптимизаций во время тренировки нейронных сетей - постепенное уменьшение скорости обучения по мере тренировки.\n",
    "\n",
    "Один из стандартных методов - уменьшение скорости обучения (learning rate) каждые N эпох на коэффициент d (часто называемый decay). Значения N и d, как всегда, являются гиперпараметрами и должны подбираться на основе эффективности на проверочных данных (validation data). \n",
    "\n",
    "В нашем случае N будет равным 1."
   ]
  },
  {
   "cell_type": "code",
   "execution_count": 11,
   "metadata": {},
   "outputs": [
    {
     "name": "stdout",
     "output_type": "stream",
     "text": [
      "Loss: 2.245684, Train accuracy: 0.196667, val accuracy: 0.206000\n",
      "Loss: 2.372685, Train accuracy: 0.196667, val accuracy: 0.206000\n",
      "Loss: 2.208299, Train accuracy: 0.196667, val accuracy: 0.206000\n",
      "Loss: 2.259444, Train accuracy: 0.196667, val accuracy: 0.206000\n",
      "Loss: 2.181578, Train accuracy: 0.196667, val accuracy: 0.206000\n",
      "Loss: 2.193982, Train accuracy: 0.196667, val accuracy: 0.206000\n",
      "Loss: 2.085672, Train accuracy: 0.196667, val accuracy: 0.206000\n",
      "Loss: 2.321907, Train accuracy: 0.196667, val accuracy: 0.206000\n",
      "Loss: 2.251000, Train accuracy: 0.200556, val accuracy: 0.208000\n",
      "Loss: 2.196621, Train accuracy: 0.225333, val accuracy: 0.230000\n",
      "Loss: 2.084484, Train accuracy: 0.241222, val accuracy: 0.242000\n",
      "Loss: 2.095548, Train accuracy: 0.268222, val accuracy: 0.267000\n",
      "Loss: 2.380465, Train accuracy: 0.277000, val accuracy: 0.272000\n",
      "Loss: 1.767388, Train accuracy: 0.280444, val accuracy: 0.285000\n",
      "Loss: 2.304647, Train accuracy: 0.299778, val accuracy: 0.307000\n",
      "Loss: 1.941685, Train accuracy: 0.324111, val accuracy: 0.324000\n",
      "Loss: 1.723688, Train accuracy: 0.358111, val accuracy: 0.360000\n",
      "Loss: 1.705898, Train accuracy: 0.386778, val accuracy: 0.376000\n",
      "Loss: 1.671263, Train accuracy: 0.405667, val accuracy: 0.398000\n",
      "Loss: 2.031764, Train accuracy: 0.427556, val accuracy: 0.422000\n"
     ]
    }
   ],
   "source": [
    "model = TwoLayerNet(n_input = train_X.shape[1], n_output = 10, hidden_layer_size = 100, reg = 1e-3)\n",
    "dataset = Dataset(train_X, train_y, val_X, val_y)\n",
    "trainer = Trainer(model, dataset, SGD(), learning_rate_decay=0.99)\n",
    "\n",
    "initial_learning_rate = trainer.learning_rate\n",
    "loss_history, train_history, val_history = trainer.fit()\n",
    "\n",
    "assert trainer.learning_rate < initial_learning_rate, \"Learning rate should've been reduced\"\n",
    "assert trainer.learning_rate > 0.5*initial_learning_rate, \"Learning rate shouldn'tve been reduced that much!\""
   ]
  },
  {
   "cell_type": "code",
   "execution_count": 12,
   "metadata": {},
   "outputs": [
    {
     "data": {
      "text/plain": [
       "[<matplotlib.lines.Line2D at 0x7f412b404c70>]"
      ]
     },
     "execution_count": 12,
     "metadata": {},
     "output_type": "execute_result"
    },
    {
     "data": {
      "image/png": "[encoded data removed]",
      "text/plain": [
       "<Figure size 432x288 with 1 Axes>"
      ]
     },
     "metadata": {
      "needs_background": "light"
     },
     "output_type": "display_data"
    }
   ],
   "source": [
    "plt.plot(train_history)\n",
    "plt.plot(val_history)"
   ]
  },
  {
   "cell_type": "markdown",
   "metadata": {},
   "source": [
    "# Накопление импульса (Momentum SGD)\n",
    "\n",
    "Другой большой класс оптимизаций - использование более эффективных методов градиентного спуска. Мы реализуем один из них - накопление импульса (Momentum SGD).\n",
    "\n",
    "Этот метод хранит скорость движения, использует градиент для ее изменения на каждом шаге, и изменяет веса пропорционально значению скорости.\n",
    "(Физическая аналогия: Вместо скорости градиенты теперь будут задавать ускорение, но будет присутствовать сила трения.)\n",
    "\n",
    "```\n",
    "velocity = momentum * velocity - learning_rate * gradient \n",
    "w = w + velocity\n",
    "```\n",
    "\n",
    "`momentum` здесь коэффициент затухания, который тоже является гиперпараметром (к счастью, для него часто есть хорошее значение по умолчанию, типичный диапазон -- 0.8-0.99).\n",
    "\n",
    "Несколько полезных ссылок, где метод разбирается более подробно:  \n",
    "http://cs231n.github.io/neural-networks-3/#sgd  \n",
    "https://distill.pub/2017/momentum/"
   ]
  },
  {
   "cell_type": "code",
   "execution_count": 13,
   "metadata": {},
   "outputs": [
    {
     "name": "stdout",
     "output_type": "stream",
     "text": [
      "Loss: 2.153337, Train accuracy: 0.196667, val accuracy: 0.206000\n",
      "Loss: 1.677622, Train accuracy: 0.344556, val accuracy: 0.355000\n",
      "Loss: 1.395326, Train accuracy: 0.534444, val accuracy: 0.535000\n",
      "Loss: 1.458161, Train accuracy: 0.601778, val accuracy: 0.594000\n",
      "Loss: 1.387373, Train accuracy: 0.665000, val accuracy: 0.655000\n",
      "Loss: 1.641804, Train accuracy: 0.672889, val accuracy: 0.657000\n",
      "Loss: 1.006728, Train accuracy: 0.718000, val accuracy: 0.677000\n",
      "Loss: 1.106447, Train accuracy: 0.706444, val accuracy: 0.660000\n",
      "Loss: 1.365101, Train accuracy: 0.738222, val accuracy: 0.702000\n",
      "Loss: 1.401117, Train accuracy: 0.745333, val accuracy: 0.692000\n",
      "Loss: 0.846030, Train accuracy: 0.769000, val accuracy: 0.693000\n",
      "Loss: 0.777381, Train accuracy: 0.773444, val accuracy: 0.712000\n",
      "Loss: 0.852111, Train accuracy: 0.794333, val accuracy: 0.722000\n",
      "Loss: 0.662009, Train accuracy: 0.773333, val accuracy: 0.711000\n",
      "Loss: 1.305905, Train accuracy: 0.803000, val accuracy: 0.728000\n",
      "Loss: 1.131954, Train accuracy: 0.798000, val accuracy: 0.721000\n",
      "Loss: 1.174403, Train accuracy: 0.791778, val accuracy: 0.718000\n",
      "Loss: 1.225967, Train accuracy: 0.804556, val accuracy: 0.726000\n",
      "Loss: 0.546177, Train accuracy: 0.824778, val accuracy: 0.745000\n",
      "Loss: 0.838442, Train accuracy: 0.815889, val accuracy: 0.749000\n"
     ]
    }
   ],
   "source": [
    "model = TwoLayerNet(n_input = train_X.shape[1], n_output = 10, hidden_layer_size = 100, reg = 1e-3)\n",
    "dataset = Dataset(train_X, train_y, val_X, val_y)\n",
    "trainer = Trainer(model, dataset, MomentumSGD(), learning_rate_decay=0.99)\n",
    "\n",
    "# You should see even better results than before!\n",
    "loss_history, train_history, val_history = trainer.fit()"
   ]
  },
  {
   "cell_type": "code",
   "execution_count": 14,
   "metadata": {},
   "outputs": [
    {
     "data": {
      "text/plain": [
       "[<matplotlib.lines.Line2D at 0x7f412b3eea90>]"
      ]
     },
     "execution_count": 14,
     "metadata": {},
     "output_type": "execute_result"
    },
    {
     "data": {
      "image/png": "[encoded data removed]",
      "text/plain": [
       "<Figure size 432x288 with 1 Axes>"
      ]
     },
     "metadata": {
      "needs_background": "light"
     },
     "output_type": "display_data"
    }
   ],
   "source": [
    "plt.plot(train_history)\n",
    "plt.plot(val_history)"
   ]
  },
  {
   "cell_type": "markdown",
   "metadata": {},
   "source": [
    "# Ну что, давайте уже тренировать сеть!"
   ]
  },
  {
   "cell_type": "markdown",
   "metadata": {},
   "source": [
    "## Последний тест - переобучимся (overfit) на маленьком наборе данных\n",
    "\n",
    "Хороший способ проверить, все ли реализовано корректно - переобучить сеть на маленьком наборе данных.  \n",
    "Наша модель обладает достаточной мощностью, чтобы приблизить маленький набор данных идеально, поэтому мы ожидаем, что на нем мы быстро дойдем до 100% точности на тренировочном наборе. \n",
    "\n",
    "Если этого не происходит, то где-то была допущена ошибка!"
   ]
  },
  {
   "cell_type": "code",
   "execution_count": 15,
   "metadata": {},
   "outputs": [
    {
     "name": "stdout",
     "output_type": "stream",
     "text": [
      "Loss: 2.351618, Train accuracy: 0.266667, val accuracy: 0.066667\n",
      "Loss: 2.318467, Train accuracy: 0.266667, val accuracy: 0.066667\n",
      "Loss: 2.291136, Train accuracy: 0.200000, val accuracy: 0.066667\n",
      "Loss: 2.341864, Train accuracy: 0.200000, val accuracy: 0.133333\n",
      "Loss: 2.302463, Train accuracy: 0.200000, val accuracy: 0.066667\n",
      "Loss: 2.319034, Train accuracy: 0.200000, val accuracy: 0.066667\n",
      "Loss: 2.235521, Train accuracy: 0.200000, val accuracy: 0.066667\n",
      "Loss: 2.170412, Train accuracy: 0.266667, val accuracy: 0.000000\n",
      "Loss: 2.144598, Train accuracy: 0.400000, val accuracy: 0.000000\n",
      "Loss: 2.000302, Train accuracy: 0.400000, val accuracy: 0.000000\n",
      "Loss: 1.842682, Train accuracy: 0.400000, val accuracy: 0.000000\n",
      "Loss: 2.238035, Train accuracy: 0.400000, val accuracy: 0.000000\n",
      "Loss: 1.616099, Train accuracy: 0.400000, val accuracy: 0.000000\n",
      "Loss: 2.203432, Train accuracy: 0.400000, val accuracy: 0.000000\n",
      "Loss: 1.902569, Train accuracy: 0.400000, val accuracy: 0.000000\n",
      "Loss: 1.637197, Train accuracy: 0.400000, val accuracy: 0.000000\n",
      "Loss: 2.003430, Train accuracy: 0.400000, val accuracy: 0.000000\n",
      "Loss: 1.394373, Train accuracy: 0.400000, val accuracy: 0.000000\n",
      "Loss: 1.492224, Train accuracy: 0.400000, val accuracy: 0.000000\n",
      "Loss: 1.807273, Train accuracy: 0.466667, val accuracy: 0.000000\n",
      "Loss: 2.022181, Train accuracy: 0.400000, val accuracy: 0.000000\n",
      "Loss: 1.577554, Train accuracy: 0.466667, val accuracy: 0.000000\n",
      "Loss: 1.866207, Train accuracy: 0.400000, val accuracy: 0.066667\n",
      "Loss: 1.908744, Train accuracy: 0.466667, val accuracy: 0.066667\n",
      "Loss: 1.159965, Train accuracy: 0.466667, val accuracy: 0.066667\n",
      "Loss: 2.083456, Train accuracy: 0.466667, val accuracy: 0.066667\n",
      "Loss: 1.642604, Train accuracy: 0.466667, val accuracy: 0.066667\n",
      "Loss: 2.125341, Train accuracy: 0.466667, val accuracy: 0.066667\n",
      "Loss: 1.993812, Train accuracy: 0.466667, val accuracy: 0.066667\n",
      "Loss: 1.343383, Train accuracy: 0.466667, val accuracy: 0.000000\n",
      "Loss: 1.837536, Train accuracy: 0.600000, val accuracy: 0.000000\n",
      "Loss: 1.609352, Train accuracy: 0.533333, val accuracy: 0.000000\n",
      "Loss: 1.314199, Train accuracy: 0.533333, val accuracy: 0.066667\n",
      "Loss: 1.798446, Train accuracy: 0.600000, val accuracy: 0.066667\n",
      "Loss: 1.659346, Train accuracy: 0.600000, val accuracy: 0.000000\n",
      "Loss: 1.933030, Train accuracy: 0.600000, val accuracy: 0.000000\n",
      "Loss: 1.083985, Train accuracy: 0.600000, val accuracy: 0.066667\n",
      "Loss: 1.491238, Train accuracy: 0.600000, val accuracy: 0.066667\n",
      "Loss: 1.731915, Train accuracy: 0.600000, val accuracy: 0.000000\n",
      "Loss: 1.788430, Train accuracy: 0.666667, val accuracy: 0.000000\n",
      "Loss: 2.425725, Train accuracy: 0.666667, val accuracy: 0.000000\n",
      "Loss: 1.017317, Train accuracy: 0.666667, val accuracy: 0.000000\n",
      "Loss: 1.558682, Train accuracy: 0.666667, val accuracy: 0.000000\n",
      "Loss: 1.728849, Train accuracy: 0.666667, val accuracy: 0.000000\n",
      "Loss: 1.452117, Train accuracy: 0.666667, val accuracy: 0.066667\n",
      "Loss: 1.861666, Train accuracy: 0.666667, val accuracy: 0.000000\n",
      "Loss: 1.198709, Train accuracy: 0.733333, val accuracy: 0.000000\n",
      "Loss: 1.657933, Train accuracy: 0.733333, val accuracy: 0.000000\n",
      "Loss: 1.558153, Train accuracy: 0.733333, val accuracy: 0.000000\n",
      "Loss: 1.384778, Train accuracy: 0.800000, val accuracy: 0.133333\n",
      "Loss: 1.625072, Train accuracy: 0.733333, val accuracy: 0.000000\n",
      "Loss: 1.549759, Train accuracy: 0.800000, val accuracy: 0.000000\n",
      "Loss: 1.617123, Train accuracy: 0.800000, val accuracy: 0.000000\n",
      "Loss: 1.739898, Train accuracy: 0.800000, val accuracy: 0.000000\n",
      "Loss: 1.417619, Train accuracy: 0.800000, val accuracy: 0.000000\n",
      "Loss: 1.533807, Train accuracy: 0.800000, val accuracy: 0.133333\n",
      "Loss: 1.011228, Train accuracy: 0.733333, val accuracy: 0.000000\n",
      "Loss: 0.936917, Train accuracy: 0.800000, val accuracy: 0.000000\n",
      "Loss: 1.408309, Train accuracy: 0.800000, val accuracy: 0.000000\n",
      "Loss: 1.036403, Train accuracy: 0.800000, val accuracy: 0.066667\n",
      "Loss: 1.865917, Train accuracy: 0.800000, val accuracy: 0.000000\n",
      "Loss: 1.592674, Train accuracy: 0.800000, val accuracy: 0.000000\n",
      "Loss: 1.323204, Train accuracy: 0.800000, val accuracy: 0.000000\n",
      "Loss: 1.334323, Train accuracy: 0.800000, val accuracy: 0.000000\n",
      "Loss: 1.938533, Train accuracy: 0.800000, val accuracy: 0.066667\n",
      "Loss: 1.275339, Train accuracy: 0.800000, val accuracy: 0.066667\n",
      "Loss: 1.253094, Train accuracy: 0.800000, val accuracy: 0.000000\n",
      "Loss: 0.897369, Train accuracy: 0.800000, val accuracy: 0.000000\n",
      "Loss: 1.138715, Train accuracy: 0.800000, val accuracy: 0.000000\n",
      "Loss: 1.601602, Train accuracy: 0.800000, val accuracy: 0.066667\n",
      "Loss: 1.564878, Train accuracy: 0.800000, val accuracy: 0.000000\n",
      "Loss: 1.059963, Train accuracy: 0.800000, val accuracy: 0.000000\n",
      "Loss: 1.502392, Train accuracy: 0.800000, val accuracy: 0.000000\n",
      "Loss: 1.681630, Train accuracy: 0.800000, val accuracy: 0.000000\n",
      "Loss: 1.228649, Train accuracy: 0.800000, val accuracy: 0.000000\n",
      "Loss: 1.550753, Train accuracy: 0.800000, val accuracy: 0.000000\n",
      "Loss: 1.786590, Train accuracy: 0.800000, val accuracy: 0.000000\n",
      "Loss: 1.226258, Train accuracy: 0.800000, val accuracy: 0.066667\n",
      "Loss: 0.957398, Train accuracy: 0.800000, val accuracy: 0.066667\n",
      "Loss: 1.442177, Train accuracy: 0.800000, val accuracy: 0.066667\n",
      "Loss: 1.435122, Train accuracy: 0.800000, val accuracy: 0.000000\n",
      "Loss: 1.106624, Train accuracy: 0.800000, val accuracy: 0.000000\n",
      "Loss: 1.231636, Train accuracy: 0.800000, val accuracy: 0.000000\n",
      "Loss: 1.457298, Train accuracy: 0.800000, val accuracy: 0.000000\n",
      "Loss: 0.921533, Train accuracy: 0.800000, val accuracy: 0.000000\n",
      "Loss: 1.184508, Train accuracy: 0.866667, val accuracy: 0.000000\n",
      "Loss: 1.222668, Train accuracy: 0.800000, val accuracy: 0.000000\n",
      "Loss: 0.944016, Train accuracy: 0.866667, val accuracy: 0.000000\n",
      "Loss: 1.295791, Train accuracy: 0.866667, val accuracy: 0.000000\n",
      "Loss: 1.478291, Train accuracy: 0.866667, val accuracy: 0.000000\n",
      "Loss: 1.294451, Train accuracy: 0.866667, val accuracy: 0.000000\n",
      "Loss: 1.375229, Train accuracy: 0.866667, val accuracy: 0.000000\n",
      "Loss: 1.415711, Train accuracy: 0.933333, val accuracy: 0.000000\n",
      "Loss: 1.056241, Train accuracy: 0.933333, val accuracy: 0.000000\n",
      "Loss: 1.258684, Train accuracy: 1.000000, val accuracy: 0.000000\n",
      "Loss: 1.131832, Train accuracy: 0.933333, val accuracy: 0.000000\n",
      "Loss: 1.053068, Train accuracy: 1.000000, val accuracy: 0.000000\n",
      "Loss: 1.455916, Train accuracy: 1.000000, val accuracy: 0.000000\n",
      "Loss: 1.092817, Train accuracy: 1.000000, val accuracy: 0.000000\n",
      "Loss: 1.412114, Train accuracy: 1.000000, val accuracy: 0.066667\n",
      "Loss: 1.628100, Train accuracy: 1.000000, val accuracy: 0.066667\n",
      "Loss: 1.204674, Train accuracy: 1.000000, val accuracy: 0.000000\n",
      "Loss: 1.558378, Train accuracy: 1.000000, val accuracy: 0.000000\n",
      "Loss: 1.095451, Train accuracy: 1.000000, val accuracy: 0.066667\n",
      "Loss: 1.280285, Train accuracy: 1.000000, val accuracy: 0.000000\n",
      "Loss: 1.103288, Train accuracy: 1.000000, val accuracy: 0.000000\n",
      "Loss: 1.309781, Train accuracy: 1.000000, val accuracy: 0.000000\n",
      "Loss: 1.369390, Train accuracy: 1.000000, val accuracy: 0.000000\n",
      "Loss: 1.174232, Train accuracy: 1.000000, val accuracy: 0.000000\n",
      "Loss: 1.173103, Train accuracy: 1.000000, val accuracy: 0.000000\n",
      "Loss: 1.323319, Train accuracy: 1.000000, val accuracy: 0.066667\n",
      "Loss: 1.167392, Train accuracy: 1.000000, val accuracy: 0.000000\n",
      "Loss: 1.076201, Train accuracy: 1.000000, val accuracy: 0.066667\n",
      "Loss: 1.232961, Train accuracy: 1.000000, val accuracy: 0.000000\n",
      "Loss: 1.157558, Train accuracy: 1.000000, val accuracy: 0.000000\n",
      "Loss: 1.330180, Train accuracy: 1.000000, val accuracy: 0.066667\n",
      "Loss: 1.283642, Train accuracy: 1.000000, val accuracy: 0.000000\n",
      "Loss: 1.163123, Train accuracy: 1.000000, val accuracy: 0.000000\n",
      "Loss: 1.331565, Train accuracy: 1.000000, val accuracy: 0.000000\n",
      "Loss: 1.404167, Train accuracy: 1.000000, val accuracy: 0.000000\n",
      "Loss: 1.188150, Train accuracy: 1.000000, val accuracy: 0.000000\n",
      "Loss: 1.441295, Train accuracy: 1.000000, val accuracy: 0.066667\n",
      "Loss: 1.068600, Train accuracy: 1.000000, val accuracy: 0.000000\n",
      "Loss: 1.364755, Train accuracy: 1.000000, val accuracy: 0.000000\n",
      "Loss: 1.212599, Train accuracy: 1.000000, val accuracy: 0.000000\n",
      "Loss: 1.128207, Train accuracy: 1.000000, val accuracy: 0.066667\n",
      "Loss: 1.121540, Train accuracy: 1.000000, val accuracy: 0.000000\n",
      "Loss: 1.024118, Train accuracy: 1.000000, val accuracy: 0.066667\n",
      "Loss: 0.939308, Train accuracy: 1.000000, val accuracy: 0.000000\n",
      "Loss: 1.422518, Train accuracy: 1.000000, val accuracy: 0.000000\n",
      "Loss: 1.381779, Train accuracy: 1.000000, val accuracy: 0.066667\n",
      "Loss: 1.321666, Train accuracy: 1.000000, val accuracy: 0.066667\n"
     ]
    },
    {
     "name": "stdout",
     "output_type": "stream",
     "text": [
      "Loss: 1.138238, Train accuracy: 1.000000, val accuracy: 0.066667\n",
      "Loss: 1.135899, Train accuracy: 1.000000, val accuracy: 0.000000\n",
      "Loss: 1.166023, Train accuracy: 1.000000, val accuracy: 0.000000\n",
      "Loss: 1.297579, Train accuracy: 1.000000, val accuracy: 0.000000\n",
      "Loss: 1.133557, Train accuracy: 1.000000, val accuracy: 0.000000\n",
      "Loss: 1.212286, Train accuracy: 1.000000, val accuracy: 0.000000\n",
      "Loss: 1.282922, Train accuracy: 1.000000, val accuracy: 0.000000\n",
      "Loss: 1.026195, Train accuracy: 1.000000, val accuracy: 0.000000\n",
      "Loss: 1.237881, Train accuracy: 1.000000, val accuracy: 0.000000\n",
      "Loss: 1.280440, Train accuracy: 1.000000, val accuracy: 0.066667\n",
      "Loss: 1.126200, Train accuracy: 1.000000, val accuracy: 0.000000\n",
      "Loss: 1.263944, Train accuracy: 1.000000, val accuracy: 0.000000\n",
      "Loss: 1.136968, Train accuracy: 1.000000, val accuracy: 0.000000\n",
      "Loss: 1.371337, Train accuracy: 1.000000, val accuracy: 0.000000\n",
      "Loss: 1.229599, Train accuracy: 1.000000, val accuracy: 0.000000\n",
      "Loss: 1.242691, Train accuracy: 1.000000, val accuracy: 0.000000\n",
      "Loss: 1.263285, Train accuracy: 1.000000, val accuracy: 0.000000\n",
      "Loss: 1.274737, Train accuracy: 1.000000, val accuracy: 0.000000\n"
     ]
    }
   ],
   "source": [
    "data_size = 15\n",
    "model = TwoLayerNet(n_input = train_X.shape[1], n_output = 10, hidden_layer_size = 100, reg = 1e-1)\n",
    "dataset = Dataset(train_X[:data_size], train_y[:data_size], val_X[:data_size], val_y[:data_size])\n",
    "trainer = Trainer(model, dataset, SGD(), learning_rate=1e-1, num_epochs=150, batch_size=5)\n",
    "\n",
    "# You should expect this to reach 1.0 training accuracy \n",
    "loss_history, train_history, val_history = trainer.fit()"
   ]
  },
  {
   "cell_type": "markdown",
   "metadata": {},
   "source": [
    "Теперь найдем гипепараметры, для которых этот процесс сходится быстрее.\n",
    "Если все реализовано корректно, то существуют параметры, при которых процесс сходится в **20** эпох или еще быстрее.\n",
    "Найдите их!"
   ]
  },
  {
   "cell_type": "code",
   "execution_count": 16,
   "metadata": {},
   "outputs": [
    {
     "name": "stdout",
     "output_type": "stream",
     "text": [
      "Loss: 2.272414, Train accuracy: 0.200000, val accuracy: 0.066667\n",
      "Loss: 2.406906, Train accuracy: 0.333333, val accuracy: 0.066667\n",
      "Loss: 1.983446, Train accuracy: 0.400000, val accuracy: 0.000000\n",
      "Loss: 1.836979, Train accuracy: 0.400000, val accuracy: 0.066667\n",
      "Loss: 0.712707, Train accuracy: 0.333333, val accuracy: 0.000000\n",
      "Loss: 1.394103, Train accuracy: 0.333333, val accuracy: 0.133333\n",
      "Loss: 2.276459, Train accuracy: 0.466667, val accuracy: 0.066667\n",
      "Loss: 1.013791, Train accuracy: 0.533333, val accuracy: 0.000000\n",
      "Loss: 2.333519, Train accuracy: 0.533333, val accuracy: 0.000000\n",
      "Loss: 0.319715, Train accuracy: 0.533333, val accuracy: 0.000000\n",
      "Loss: 0.737455, Train accuracy: 0.533333, val accuracy: 0.000000\n",
      "Loss: 0.194038, Train accuracy: 0.800000, val accuracy: 0.000000\n",
      "Loss: 2.121524, Train accuracy: 0.933333, val accuracy: 0.000000\n",
      "Loss: 0.101273, Train accuracy: 0.933333, val accuracy: 0.000000\n",
      "Loss: 0.100393, Train accuracy: 1.000000, val accuracy: 0.000000\n",
      "Loss: 0.184663, Train accuracy: 1.000000, val accuracy: 0.000000\n",
      "Loss: 0.067459, Train accuracy: 1.000000, val accuracy: 0.000000\n",
      "Loss: 0.201725, Train accuracy: 1.000000, val accuracy: 0.000000\n",
      "Loss: 0.000554, Train accuracy: 1.000000, val accuracy: 0.000000\n",
      "Loss: 0.015724, Train accuracy: 1.000000, val accuracy: 0.000000\n"
     ]
    }
   ],
   "source": [
    "# Now, tweak some hyper parameters and make it train to 1.0 accuracy in 20 epochs or less\n",
    "\n",
    "model = TwoLayerNet(n_input = train_X.shape[1], n_output = 10, hidden_layer_size = 1000, reg = 0)\n",
    "dataset = Dataset(train_X[:data_size], train_y[:data_size], val_X[:data_size], val_y[:data_size])\n",
    "trainer = Trainer(model, dataset, SGD(), learning_rate=1e-1, num_epochs=20, batch_size=2)\n",
    "\n",
    "loss_history, train_history, val_history = trainer.fit()"
   ]
  },
  {
   "cell_type": "markdown",
   "metadata": {},
   "source": [
    "# Итак, основное мероприятие!\n",
    "\n",
    "Натренируйте лучшую нейросеть! Можно добавлять и изменять параметры, менять количество нейронов в слоях сети и как угодно экспериментировать. \n",
    "\n",
    "Добейтесь точности лучше **60%** на validation set."
   ]
  },
  {
   "cell_type": "code",
   "execution_count": 17,
   "metadata": {},
   "outputs": [],
   "source": [
    "best_learning_rate          = None\n",
    "best_reg_strength           = None\n",
    "best_learning_rate_decay    = None\n",
    "best_hidden_layer_size      = None\n",
    "best_num_epochs             = None\n",
    "best_batch_size             = None\n",
    "\n",
    "default_learning_rate       = 1e-3\n",
    "default_reg_strength        = 1e-3\n",
    "default_learning_rate_decay = 1\n",
    "default_hidden_layer_size   = 16\n",
    "default_batch_size          = 64\n",
    "default_num_epochs          = 50\n",
    "\n",
    "dataset = Dataset(train_X, train_y, val_X, val_y)"
   ]
  },
  {
   "cell_type": "code",
   "execution_count": 18,
   "metadata": {
    "scrolled": false
   },
   "outputs": [
    {
     "name": "stderr",
     "output_type": "stream",
     "text": [
      "100%|██████████| 50/50 [00:24<00:00,  2.01it/s]"
     ]
    },
    {
     "name": "stdout",
     "output_type": "stream",
     "text": [
      "Learning rate = 0.100000\n",
      "Accuracy = 0.603000\n"
     ]
    },
    {
     "name": "stderr",
     "output_type": "stream",
     "text": [
      "\n",
      "100%|██████████| 50/50 [00:26<00:00,  1.92it/s]"
     ]
    },
    {
     "name": "stdout",
     "output_type": "stream",
     "text": [
      "Learning rate = 0.010000\n",
      "Accuracy = 0.689000\n"
     ]
    },
    {
     "name": "stderr",
     "output_type": "stream",
     "text": [
      "\n",
      "100%|██████████| 50/50 [00:27<00:00,  1.85it/s]"
     ]
    },
    {
     "name": "stdout",
     "output_type": "stream",
     "text": [
      "Learning rate = 0.001000\n",
      "Accuracy = 0.275000\n"
     ]
    },
    {
     "name": "stderr",
     "output_type": "stream",
     "text": [
      "\n",
      "100%|██████████| 50/50 [00:22<00:00,  2.27it/s]"
     ]
    },
    {
     "name": "stdout",
     "output_type": "stream",
     "text": [
      "Learning rate = 0.000100\n",
      "Accuracy = 0.206000\n",
      "\n",
      "===============Best_results===============\n",
      "\n",
      "Learning rate = 0.010000\n",
      "Accuracy = 0.689000\n"
     ]
    },
    {
     "name": "stderr",
     "output_type": "stream",
     "text": [
      "\n"
     ]
    }
   ],
   "source": [
    "best_val_accuracy   = None\n",
    "\n",
    "learning_rates      = [1e-1, 1e-2, 1e-3, 1e-4]\n",
    "\n",
    "reg_strength        = default_reg_strength\n",
    "learning_rate_decay = default_learning_rate_decay\n",
    "batch_size          = default_batch_size\n",
    "num_epochs          = default_num_epochs\n",
    "hidden_layer_size   = default_hidden_layer_size\n",
    "\n",
    "for learning_rate in learning_rates:\n",
    "    model = TwoLayerNet(n_input=train_X.shape[1], n_output=10, \n",
    "                        hidden_layer_size=hidden_layer_size, \n",
    "                        reg=reg_strength)\n",
    "    trainer = Trainer(model, dataset, MomentumSGD(), num_epochs, batch_size, learning_rate, learning_rate_decay)\n",
    "    \n",
    "    loss_history, train_history, val_history = trainer.fit(out=False)\n",
    "    \n",
    "    if best_val_accuracy is None or val_history[-1] > best_val_accuracy:\n",
    "        best_learning_rate = learning_rate\n",
    "        best_val_accuracy = val_history[-1]\n",
    "        \n",
    "    print('Learning rate = %f' % learning_rate, flush=True)\n",
    "    print('Accuracy = %f' % val_history[-1], flush=True)\n",
    "    \n",
    "print('\\n===============Best_results===============\\n', flush=True)\n",
    "print('Learning rate = %f' % best_learning_rate, flush=True)\n",
    "print('Accuracy = %f' % best_val_accuracy, flush=True)"
   ]
  },
  {
   "cell_type": "code",
   "execution_count": 19,
   "metadata": {},
   "outputs": [
    {
     "name": "stderr",
     "output_type": "stream",
     "text": [
      "100%|██████████| 50/50 [00:20<00:00,  2.49it/s]"
     ]
    },
    {
     "name": "stdout",
     "output_type": "stream",
     "text": [
      "Regularization strength = 1.000000\n",
      "Accuracy = 0.206000\n"
     ]
    },
    {
     "name": "stderr",
     "output_type": "stream",
     "text": [
      "\n",
      "100%|██████████| 50/50 [00:22<00:00,  2.26it/s]"
     ]
    },
    {
     "name": "stdout",
     "output_type": "stream",
     "text": [
      "Regularization strength = 0.100000\n",
      "Accuracy = 0.206000\n"
     ]
    },
    {
     "name": "stderr",
     "output_type": "stream",
     "text": [
      "\n",
      "100%|██████████| 50/50 [00:19<00:00,  2.57it/s]"
     ]
    },
    {
     "name": "stdout",
     "output_type": "stream",
     "text": [
      "Regularization strength = 0.010000\n",
      "Accuracy = 0.623000\n"
     ]
    },
    {
     "name": "stderr",
     "output_type": "stream",
     "text": [
      "\n",
      "100%|██████████| 50/50 [00:19<00:00,  2.56it/s]"
     ]
    },
    {
     "name": "stdout",
     "output_type": "stream",
     "text": [
      "Regularization strength = 0.001000\n",
      "Accuracy = 0.685000\n"
     ]
    },
    {
     "name": "stderr",
     "output_type": "stream",
     "text": [
      "\n",
      "100%|██████████| 50/50 [00:19<00:00,  2.55it/s]"
     ]
    },
    {
     "name": "stdout",
     "output_type": "stream",
     "text": [
      "Regularization strength = 0.000100\n",
      "Accuracy = 0.656000\n",
      "\n",
      "===============Best_results===============\n",
      "\n",
      "Regularization strength = 0.001000\n",
      "Accuracy = 0.685000\n"
     ]
    },
    {
     "name": "stderr",
     "output_type": "stream",
     "text": [
      "\n"
     ]
    }
   ],
   "source": [
    "best_val_accuracy   = None\n",
    "\n",
    "learning_rate       = best_learning_rate\n",
    "\n",
    "reg_strengths       = [1, 1e-1, 1e-2, 1e-3, 1e-4]\n",
    "\n",
    "learning_rate_decay = default_learning_rate_decay\n",
    "batch_size          = default_batch_size\n",
    "num_epochs          = default_num_epochs\n",
    "hidden_layer_size   = default_hidden_layer_size\n",
    "\n",
    "for reg_strength in reg_strengths:\n",
    "    model = TwoLayerNet(n_input=train_X.shape[1], n_output=10, \n",
    "                        hidden_layer_size=hidden_layer_size, \n",
    "                        reg=reg_strength)\n",
    "    trainer = Trainer(model, dataset, MomentumSGD(), num_epochs, batch_size, learning_rate, learning_rate_decay)\n",
    "    \n",
    "    loss_history, train_history, val_history = trainer.fit(out=False)\n",
    "    \n",
    "    if best_val_accuracy is None or val_history[-1] > best_val_accuracy:\n",
    "        best_reg_strength = reg_strength\n",
    "        best_val_accuracy = val_history[-1]\n",
    "        \n",
    "    print('Regularization strength = %f' % reg_strength, flush=True)\n",
    "    print('Accuracy = %f' % val_history[-1], flush=True)\n",
    "    \n",
    "print('\\n===============Best_results===============\\n', flush=True)\n",
    "print('Regularization strength = %f' % best_reg_strength, flush=True)\n",
    "print('Accuracy = %f' % best_val_accuracy, flush=True) "
   ]
  },
  {
   "cell_type": "code",
   "execution_count": 22,
   "metadata": {},
   "outputs": [
    {
     "name": "stderr",
     "output_type": "stream",
     "text": [
      "100%|██████████| 50/50 [00:21<00:00,  2.30it/s]"
     ]
    },
    {
     "name": "stdout",
     "output_type": "stream",
     "text": [
      "Learning rate decay = 0.800000\n",
      "Accuracy = 0.279000\n"
     ]
    },
    {
     "name": "stderr",
     "output_type": "stream",
     "text": [
      "\n",
      "100%|██████████| 50/50 [00:19<00:00,  2.54it/s]"
     ]
    },
    {
     "name": "stdout",
     "output_type": "stream",
     "text": [
      "Learning rate decay = 0.850000\n",
      "Accuracy = 0.357000\n"
     ]
    },
    {
     "name": "stderr",
     "output_type": "stream",
     "text": [
      "\n",
      "100%|██████████| 50/50 [00:19<00:00,  2.53it/s]"
     ]
    },
    {
     "name": "stdout",
     "output_type": "stream",
     "text": [
      "Learning rate decay = 0.900000\n",
      "Accuracy = 0.536000\n"
     ]
    },
    {
     "name": "stderr",
     "output_type": "stream",
     "text": [
      "\n",
      "100%|██████████| 50/50 [00:19<00:00,  2.56it/s]"
     ]
    },
    {
     "name": "stdout",
     "output_type": "stream",
     "text": [
      "Learning rate decay = 0.950000\n",
      "Accuracy = 0.667000\n"
     ]
    },
    {
     "name": "stderr",
     "output_type": "stream",
     "text": [
      "\n",
      "100%|██████████| 50/50 [00:19<00:00,  2.57it/s]"
     ]
    },
    {
     "name": "stdout",
     "output_type": "stream",
     "text": [
      "Learning rate decay = 0.990000\n",
      "Accuracy = 0.681000\n",
      "\n",
      "===============Best_results===============\n",
      "\n",
      "Learning rate decay = 0.990000\n",
      "Accuracy = 0.681000\n"
     ]
    },
    {
     "name": "stderr",
     "output_type": "stream",
     "text": [
      "\n"
     ]
    }
   ],
   "source": [
    "best_val_accuracy    = None\n",
    "\n",
    "learning_rate        = best_learning_rate\n",
    "reg_strength         = best_reg_strength\n",
    "\n",
    "learning_rate_decays = [0.8, 0.85, 0.9, 0.95, 0.99]\n",
    "\n",
    "batch_size           = default_batch_size\n",
    "num_epochs           = default_num_epochs\n",
    "hidden_layer_size    = default_hidden_layer_size\n",
    "\n",
    "for learning_rate_decay in learning_rate_decays:\n",
    "    model = TwoLayerNet(n_input=train_X.shape[1], n_output=10, \n",
    "                        hidden_layer_size=hidden_layer_size, \n",
    "                        reg=reg_strength)\n",
    "    trainer = Trainer(model, dataset, MomentumSGD(), num_epochs, batch_size, learning_rate, learning_rate_decay)\n",
    "    \n",
    "    loss_history, train_history, val_history = trainer.fit(out=False)\n",
    "    \n",
    "    if best_val_accuracy is None or val_history[-1] > best_val_accuracy:\n",
    "        best_learning_rate_decay = learning_rate_decay\n",
    "        best_val_accuracy = val_history[-1]\n",
    "        \n",
    "    print('Learning rate decay = %f' % learning_rate_decay, flush=True)\n",
    "    print('Accuracy = %f' % val_history[-1], flush=True)\n",
    "    \n",
    "print('\\n===============Best_results===============\\n', flush=True)\n",
    "print('Learning rate decay = %f' % best_learning_rate_decay, flush=True)\n",
    "print('Accuracy = %f' % best_val_accuracy, flush=True) "
   ]
  },
  {
   "cell_type": "code",
   "execution_count": 23,
   "metadata": {},
   "outputs": [
    {
     "name": "stderr",
     "output_type": "stream",
     "text": [
      "100%|██████████| 50/50 [01:49<00:00,  2.20s/it]"
     ]
    },
    {
     "name": "stdout",
     "output_type": "stream",
     "text": [
      "Batch size = 2\n",
      "Accuracy = 0.469000\n"
     ]
    },
    {
     "name": "stderr",
     "output_type": "stream",
     "text": [
      "\n",
      "100%|██████████| 50/50 [00:58<00:00,  1.17s/it]"
     ]
    },
    {
     "name": "stdout",
     "output_type": "stream",
     "text": [
      "Batch size = 4\n",
      "Accuracy = 0.575000\n"
     ]
    },
    {
     "name": "stderr",
     "output_type": "stream",
     "text": [
      "\n",
      "100%|██████████| 50/50 [01:03<00:00,  1.27s/it]"
     ]
    },
    {
     "name": "stdout",
     "output_type": "stream",
     "text": [
      "Batch size = 8\n",
      "Accuracy = 0.683000\n"
     ]
    },
    {
     "name": "stderr",
     "output_type": "stream",
     "text": [
      "\n",
      "100%|██████████| 50/50 [00:38<00:00,  1.28it/s]"
     ]
    },
    {
     "name": "stdout",
     "output_type": "stream",
     "text": [
      "Batch size = 16\n",
      "Accuracy = 0.693000\n"
     ]
    },
    {
     "name": "stderr",
     "output_type": "stream",
     "text": [
      "\n",
      "100%|██████████| 50/50 [00:25<00:00,  1.96it/s]"
     ]
    },
    {
     "name": "stdout",
     "output_type": "stream",
     "text": [
      "Batch size = 32\n",
      "Accuracy = 0.693000\n"
     ]
    },
    {
     "name": "stderr",
     "output_type": "stream",
     "text": [
      "\n",
      "100%|██████████| 50/50 [00:21<00:00,  2.36it/s]"
     ]
    },
    {
     "name": "stdout",
     "output_type": "stream",
     "text": [
      "Batch size = 64\n",
      "Accuracy = 0.682000\n"
     ]
    },
    {
     "name": "stderr",
     "output_type": "stream",
     "text": [
      "\n",
      "100%|██████████| 50/50 [00:18<00:00,  2.77it/s]"
     ]
    },
    {
     "name": "stdout",
     "output_type": "stream",
     "text": [
      "Batch size = 128\n",
      "Accuracy = 0.595000\n"
     ]
    },
    {
     "name": "stderr",
     "output_type": "stream",
     "text": [
      "\n",
      "100%|██████████| 50/50 [00:19<00:00,  2.54it/s]"
     ]
    },
    {
     "name": "stdout",
     "output_type": "stream",
     "text": [
      "Batch size = 256\n",
      "Accuracy = 0.468000\n"
     ]
    },
    {
     "name": "stderr",
     "output_type": "stream",
     "text": [
      "\n",
      "100%|██████████| 50/50 [00:17<00:00,  2.81it/s]"
     ]
    },
    {
     "name": "stdout",
     "output_type": "stream",
     "text": [
      "Batch size = 512\n",
      "Accuracy = 0.279000\n",
      "\n",
      "===============Best_results===============\n",
      "\n",
      "Batch size = 16\n",
      "Accuracy = 0.693000\n"
     ]
    },
    {
     "name": "stderr",
     "output_type": "stream",
     "text": [
      "\n"
     ]
    }
   ],
   "source": [
    "best_val_accuracy   = None\n",
    "\n",
    "learning_rate       = best_learning_rate\n",
    "reg_strength        = best_reg_strength\n",
    "learning_rate_decay = best_learning_rate_decay\n",
    "\n",
    "batch_sizes         = [2, 4, 8, 16, 32, 64, 128, 256, 512]\n",
    "\n",
    "num_epochs          = default_num_epochs\n",
    "hidden_layer_size   = default_hidden_layer_size\n",
    "\n",
    "for batch_size in batch_sizes:\n",
    "    model = TwoLayerNet(n_input=train_X.shape[1], n_output=10, \n",
    "                        hidden_layer_size=hidden_layer_size, \n",
    "                        reg=reg_strength)\n",
    "    trainer = Trainer(model, dataset, MomentumSGD(), num_epochs, batch_size, learning_rate, learning_rate_decay)\n",
    "    \n",
    "    loss_history, train_history, val_history = trainer.fit(out=False)\n",
    "    \n",
    "    if best_val_accuracy is None or val_history[-1] > best_val_accuracy:\n",
    "        best_batch_size = batch_size\n",
    "        best_val_accuracy = val_history[-1]\n",
    "        \n",
    "    print('Batch size = %d' % batch_size, flush=True)\n",
    "    print('Accuracy = %f' % val_history[-1], flush=True)\n",
    "    \n",
    "print('\\n===============Best_results===============\\n', flush=True)\n",
    "print('Batch size = %d' % best_batch_size, flush=True)\n",
    "print('Accuracy = %f' % best_val_accuracy, flush=True) "
   ]
  },
  {
   "cell_type": "code",
   "execution_count": 24,
   "metadata": {},
   "outputs": [
    {
     "name": "stdout",
     "output_type": "stream",
     "text": [
      "best_learning_rate: 0.01\n",
      "best_reg_strength: 0.001\n",
      "best_learning_rate_decay: 0.99\n",
      "best_batch_size: 16\n"
     ]
    }
   ],
   "source": [
    "print('best_learning_rate:', best_learning_rate)\n",
    "print('best_reg_strength:', best_reg_strength)\n",
    "print('best_learning_rate_decay:', best_learning_rate_decay)\n",
    "print('best_batch_size:', best_batch_size)"
   ]
  },
  {
   "cell_type": "code",
   "execution_count": 25,
   "metadata": {},
   "outputs": [
    {
     "name": "stderr",
     "output_type": "stream",
     "text": [
      "100%|██████████| 200/200 [19:24<00:00,  5.82s/it]\n"
     ]
    }
   ],
   "source": [
    "best_batch_size        = 32\n",
    "best_hidden_layer_size = 256\n",
    "best_num_epochs        = 200\n",
    "\n",
    "best_classifier = TwoLayerNet(n_input=train_X.shape[1], n_output=10, \n",
    "                                hidden_layer_size=best_hidden_layer_size, \n",
    "                                reg=best_reg_strength)\n",
    "\n",
    "trainer = Trainer(best_classifier, dataset, MomentumSGD(), best_num_epochs, \n",
    "                  batch_size=best_batch_size, learning_rate=best_learning_rate, \n",
    "                  learning_rate_decay=best_learning_rate_decay)\n",
    "\n",
    "loss_history, train_history, val_history = trainer.fit(out=False)\n",
    "best_val_accuracy = val_history[-1]"
   ]
  },
  {
   "cell_type": "code",
   "execution_count": 26,
   "metadata": {},
   "outputs": [
    {
     "name": "stdout",
     "output_type": "stream",
     "text": [
      "best validation accuracy achieved: 0.798000\n"
     ]
    }
   ],
   "source": [
    "print('best validation accuracy achieved: %f' % best_val_accuracy)"
   ]
  },
  {
   "cell_type": "code",
   "execution_count": 27,
   "metadata": {},
   "outputs": [
    {
     "data": {
      "text/plain": [
       "[<matplotlib.lines.Line2D at 0x7f412a988130>]"
      ]
     },
     "execution_count": 27,
     "metadata": {},
     "output_type": "execute_result"
    },
    {
     "data": {
      "image/png": "[encoded data removed]",
      "text/plain": [
       "<Figure size 1080x504 with 2 Axes>"
      ]
     },
     "metadata": {
      "needs_background": "light"
     },
     "output_type": "display_data"
    }
   ],
   "source": [
    "plt.figure(figsize=(15, 7))\n",
    "plt.subplot(211)\n",
    "plt.title(\"Loss\")\n",
    "plt.plot(loss_history)\n",
    "plt.subplot(212)\n",
    "plt.title(\"Train/validation accuracy\")\n",
    "plt.plot(train_history)\n",
    "plt.plot(val_history)"
   ]
  },
  {
   "cell_type": "markdown",
   "metadata": {},
   "source": [
    "# Как обычно, посмотрим, как наша лучшая модель работает на тестовых данных"
   ]
  },
  {
   "cell_type": "code",
   "execution_count": 28,
   "metadata": {},
   "outputs": [
    {
     "name": "stdout",
     "output_type": "stream",
     "text": [
      "Neural net test set accuracy: 0.772000\n"
     ]
    }
   ],
   "source": [
    "test_pred = best_classifier.predict(test_X)\n",
    "test_accuracy = multiclass_accuracy(test_pred, test_y)\n",
    "print('Neural net test set accuracy: %f' % (test_accuracy, ))"
   ]
  },
  {
   "cell_type": "code",
   "execution_count": 30,
   "metadata": {},
   "outputs": [
    {
     "data": {
      "image/png": "[encoded data removed]",
      "text/plain": [
       "<Figure size 432x288 with 50 Axes>"
      ]
     },
     "metadata": {
      "needs_background": "light"
     },
     "output_type": "display_data"
    },
    {
     "name": "stdout",
     "output_type": "stream",
     "text": [
      "Predicted:\n",
      "[[3 7 2 3 4 5 6 7 5 9]\n",
      " [2 4 2 3 1 5 0 7 8 1]\n",
      " [0 1 2 3 4 5 6 7 8 9]\n",
      " [3 1 2 3 4 3 6 7 3 2]\n",
      " [0 1 2 8 4 5 6 7 9 9]]\n"
     ]
    }
   ],
   "source": [
    "samples_per_class = 5\n",
    "digits_count = 10\n",
    "\n",
    "preds = []\n",
    "\n",
    "plot_index = 0\n",
    "for index in range(samples_per_class):\n",
    "    for digit in range(digits_count):\n",
    "        digit_indices = test_y == digit\n",
    "        test_X_cur = test_X[digit_indices]\n",
    "        test_y_cur = test_y[digit_indices]\n",
    "\n",
    "        test_indices = np.arange(test_y_cur.size)\n",
    "        random_indices = np.random.choice(test_indices)\n",
    "\n",
    "        image = test_X_cur[random_indices]\n",
    "        pred = best_classifier.predict(image)\n",
    "        preds.append(pred)\n",
    "        \n",
    "        image = image.reshape(32, 32, 3) * 255.0\n",
    "    \n",
    "        plt.subplot(samples_per_class, digits_count, index * digits_count + digit + 1)\n",
    "        plt.imshow(image.astype(np.uint8))\n",
    "        plt.axis('off')\n",
    "        plot_index += 1\n",
    "        \n",
    "plt.show()\n",
    "\n",
    "preds = np.array(preds).reshape(samples_per_class, digits_count)\n",
    "print('Predicted:\\n' + str(preds))"
   ]
  }
 ],
 "metadata": {
  "kernelspec": {
   "display_name": "Python 3",
   "language": "python",
   "name": "python3"
  },
  "language_info": {
   "codemirror_mode": {
    "name": "ipython",
    "version": 3
   },
   "file_extension": ".py",
   "mimetype": "text/x-python",
   "name": "python",
   "nbconvert_exporter": "python",
   "pygments_lexer": "ipython3",
   "version": "3.8.10"
  }
 },
 "nbformat": 4,
 "nbformat_minor": 2
}
